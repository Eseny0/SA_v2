{
 "cells": [
  {
   "cell_type": "code",
   "metadata": {
    "ExecuteTime": {
     "end_time": "2024-11-20T21:14:44.134598Z",
     "start_time": "2024-11-20T21:14:43.722608Z"
    }
   },
   "source": [
    "import csv\n",
    "\n",
    "# Specify the file paths\n",
    "input_file = 'house.csv'  # Replace with the path to your CSV file\n",
    "output_file = 'house.txt'  # Replace with the desired output file path\n",
    "\n",
    "# Open the input and output files\n",
    "with open(input_file, 'r', newline='') as csv_file, open(output_file, 'w', newline='') as txt_file:\n",
    "    # Create a CSV reader and writer\n",
    "    csv_reader = csv.DictReader(csv_file)  # Using DictReader to work with column names\n",
    "    fieldnames = [field for field in csv_reader.fieldnames if field not in ['bedroom_count', 'floor']]  # Remove 'floor' and 'age' columns\n",
    "    \n",
    "    # Create a CSV writer with TAB delimiter\n",
    "    txt_writer = csv.DictWriter(txt_file, fieldnames=fieldnames, delimiter='\\t')\n",
    "    \n",
    "    # Write the header row (field names) to the TXT file\n",
    "    txt_writer.writeheader()\n",
    "    \n",
    "    # Write up to 99 rows, excluding the 'floor' and 'age' columns\n",
    "    row_count = 0\n",
    "    for row in csv_reader:\n",
    "        if row_count >= 99:\n",
    "            break  # Stop after 99 rows\n",
    "        # Drop 'floor' and 'age' columns\n",
    "        row = {key: value for key, value in row.items() if key not in ['floor', 'age']}\n",
    "        txt_writer.writerow(row)\n",
    "        row_count += 1\n",
    "\n",
    "print(\"Conversion complete. Check the output file:\", output_file)\n"
   ],
   "outputs": [
    {
     "ename": "ValueError",
     "evalue": "dict contains fields not in fieldnames: 'bedroom_count'",
     "output_type": "error",
     "traceback": [
      "\u001B[1;31m---------------------------------------------------------------------------\u001B[0m",
      "\u001B[1;31mValueError\u001B[0m                                Traceback (most recent call last)",
      "Cell \u001B[1;32mIn[1], line 26\u001B[0m\n\u001B[0;32m     24\u001B[0m         \u001B[38;5;66;03m# Drop 'floor' and 'age' columns\u001B[39;00m\n\u001B[0;32m     25\u001B[0m         row \u001B[38;5;241m=\u001B[39m {key: value \u001B[38;5;28;01mfor\u001B[39;00m key, value \u001B[38;5;129;01min\u001B[39;00m row\u001B[38;5;241m.\u001B[39mitems() \u001B[38;5;28;01mif\u001B[39;00m key \u001B[38;5;129;01mnot\u001B[39;00m \u001B[38;5;129;01min\u001B[39;00m [\u001B[38;5;124m'\u001B[39m\u001B[38;5;124mfloor\u001B[39m\u001B[38;5;124m'\u001B[39m, \u001B[38;5;124m'\u001B[39m\u001B[38;5;124mage\u001B[39m\u001B[38;5;124m'\u001B[39m]}\n\u001B[1;32m---> 26\u001B[0m         \u001B[43mtxt_writer\u001B[49m\u001B[38;5;241;43m.\u001B[39;49m\u001B[43mwriterow\u001B[49m\u001B[43m(\u001B[49m\u001B[43mrow\u001B[49m\u001B[43m)\u001B[49m\n\u001B[0;32m     27\u001B[0m         row_count \u001B[38;5;241m+\u001B[39m\u001B[38;5;241m=\u001B[39m \u001B[38;5;241m1\u001B[39m\n\u001B[0;32m     29\u001B[0m \u001B[38;5;28mprint\u001B[39m(\u001B[38;5;124m\"\u001B[39m\u001B[38;5;124mConversion complete. Check the output file:\u001B[39m\u001B[38;5;124m\"\u001B[39m, output_file)\n",
      "File \u001B[1;32m~\\AppData\\Local\\Programs\\Python\\Python39\\lib\\csv.py:154\u001B[0m, in \u001B[0;36mDictWriter.writerow\u001B[1;34m(self, rowdict)\u001B[0m\n\u001B[0;32m    153\u001B[0m \u001B[38;5;28;01mdef\u001B[39;00m \u001B[38;5;21mwriterow\u001B[39m(\u001B[38;5;28mself\u001B[39m, rowdict):\n\u001B[1;32m--> 154\u001B[0m     \u001B[38;5;28;01mreturn\u001B[39;00m \u001B[38;5;28mself\u001B[39m\u001B[38;5;241m.\u001B[39mwriter\u001B[38;5;241m.\u001B[39mwriterow(\u001B[38;5;28;43mself\u001B[39;49m\u001B[38;5;241;43m.\u001B[39;49m\u001B[43m_dict_to_list\u001B[49m\u001B[43m(\u001B[49m\u001B[43mrowdict\u001B[49m\u001B[43m)\u001B[49m)\n",
      "File \u001B[1;32m~\\AppData\\Local\\Programs\\Python\\Python39\\lib\\csv.py:149\u001B[0m, in \u001B[0;36mDictWriter._dict_to_list\u001B[1;34m(self, rowdict)\u001B[0m\n\u001B[0;32m    147\u001B[0m     wrong_fields \u001B[38;5;241m=\u001B[39m rowdict\u001B[38;5;241m.\u001B[39mkeys() \u001B[38;5;241m-\u001B[39m \u001B[38;5;28mself\u001B[39m\u001B[38;5;241m.\u001B[39mfieldnames\n\u001B[0;32m    148\u001B[0m     \u001B[38;5;28;01mif\u001B[39;00m wrong_fields:\n\u001B[1;32m--> 149\u001B[0m         \u001B[38;5;28;01mraise\u001B[39;00m \u001B[38;5;167;01mValueError\u001B[39;00m(\u001B[38;5;124m\"\u001B[39m\u001B[38;5;124mdict contains fields not in fieldnames: \u001B[39m\u001B[38;5;124m\"\u001B[39m\n\u001B[0;32m    150\u001B[0m                          \u001B[38;5;241m+\u001B[39m \u001B[38;5;124m\"\u001B[39m\u001B[38;5;124m, \u001B[39m\u001B[38;5;124m\"\u001B[39m\u001B[38;5;241m.\u001B[39mjoin([\u001B[38;5;28mrepr\u001B[39m(x) \u001B[38;5;28;01mfor\u001B[39;00m x \u001B[38;5;129;01min\u001B[39;00m wrong_fields]))\n\u001B[0;32m    151\u001B[0m \u001B[38;5;28;01mreturn\u001B[39;00m (rowdict\u001B[38;5;241m.\u001B[39mget(key, \u001B[38;5;28mself\u001B[39m\u001B[38;5;241m.\u001B[39mrestval) \u001B[38;5;28;01mfor\u001B[39;00m key \u001B[38;5;129;01min\u001B[39;00m \u001B[38;5;28mself\u001B[39m\u001B[38;5;241m.\u001B[39mfieldnames)\n",
      "\u001B[1;31mValueError\u001B[0m: dict contains fields not in fieldnames: 'bedroom_count'"
     ]
    }
   ],
   "execution_count": 1
  },
  {
   "cell_type": "code",
   "execution_count": null,
   "metadata": {},
   "outputs": [],
   "source": []
  }
 ],
 "metadata": {
  "kernelspec": {
   "display_name": "Python 3",
   "language": "python",
   "name": "python3"
  },
  "language_info": {
   "codemirror_mode": {
    "name": "ipython",
    "version": 3
   },
   "file_extension": ".py",
   "mimetype": "text/x-python",
   "name": "python",
   "nbconvert_exporter": "python",
   "pygments_lexer": "ipython3",
   "version": "3.11.8"
  }
 },
 "nbformat": 4,
 "nbformat_minor": 2
}
